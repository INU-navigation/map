{
 "cells": [
  {
   "cell_type": "markdown",
   "id": "1690615c",
   "metadata": {},
   "source": [
    "# 각 층의 정보를 담은 geojson 파일 합병"
   ]
  },
  {
   "cell_type": "code",
   "execution_count": 1,
   "id": "4e45d8c0",
   "metadata": {},
   "outputs": [
    {
     "name": "stdout",
     "output_type": "stream",
     "text": [
      "Collecting geopandas\n",
      "  Obtaining dependency information for geopandas from https://files.pythonhosted.org/packages/3e/cf/ede993ed7070c5487e6db550aad490178c06eaa48ad26ff5e5263f995fba/geopandas-0.14.1-py3-none-any.whl.metadata\n",
      "  Downloading geopandas-0.14.1-py3-none-any.whl.metadata (1.5 kB)\n",
      "Collecting fiona>=1.8.21 (from geopandas)\n",
      "  Obtaining dependency information for fiona>=1.8.21 from https://files.pythonhosted.org/packages/7f/27/b24c1610c7ae5716709321f04d38d7b8b71ed531f80df4f697b9ad99cfc3/fiona-1.9.5-cp311-cp311-win_amd64.whl.metadata\n",
      "  Downloading fiona-1.9.5-cp311-cp311-win_amd64.whl.metadata (51 kB)\n",
      "     ---------------------------------------- 0.0/51.1 kB ? eta -:--:--\n",
      "     ---------------------------------------- 51.1/51.1 kB 2.6 MB/s eta 0:00:00\n",
      "Requirement already satisfied: packaging in c:\\users\\user\\anaconda3\\lib\\site-packages (from geopandas) (23.0)\n",
      "Requirement already satisfied: pandas>=1.4.0 in c:\\users\\user\\anaconda3\\lib\\site-packages (from geopandas) (1.5.3)\n",
      "Collecting pyproj>=3.3.0 (from geopandas)\n",
      "  Obtaining dependency information for pyproj>=3.3.0 from https://files.pythonhosted.org/packages/79/95/eb68113c5b5737c342bde1bab92705dabe69c16299c5a122616e50f1fbd6/pyproj-3.6.1-cp311-cp311-win_amd64.whl.metadata\n",
      "  Downloading pyproj-3.6.1-cp311-cp311-win_amd64.whl.metadata (31 kB)\n",
      "Collecting shapely>=1.8.0 (from geopandas)\n",
      "  Obtaining dependency information for shapely>=1.8.0 from https://files.pythonhosted.org/packages/9e/39/029c441d8af32ab423b229c4525ce5ce6707318155b59634811a4c56f5c4/shapely-2.0.2-cp311-cp311-win_amd64.whl.metadata\n",
      "  Downloading shapely-2.0.2-cp311-cp311-win_amd64.whl.metadata (7.2 kB)\n",
      "Requirement already satisfied: attrs>=19.2.0 in c:\\users\\user\\anaconda3\\lib\\site-packages (from fiona>=1.8.21->geopandas) (22.1.0)\n",
      "Requirement already satisfied: certifi in c:\\users\\user\\anaconda3\\lib\\site-packages (from fiona>=1.8.21->geopandas) (2023.7.22)\n",
      "Requirement already satisfied: click~=8.0 in c:\\users\\user\\anaconda3\\lib\\site-packages (from fiona>=1.8.21->geopandas) (8.0.4)\n",
      "Collecting click-plugins>=1.0 (from fiona>=1.8.21->geopandas)\n",
      "  Downloading click_plugins-1.1.1-py2.py3-none-any.whl (7.5 kB)\n",
      "Collecting cligj>=0.5 (from fiona>=1.8.21->geopandas)\n",
      "  Downloading cligj-0.7.2-py3-none-any.whl (7.1 kB)\n",
      "Requirement already satisfied: six in c:\\users\\user\\anaconda3\\lib\\site-packages (from fiona>=1.8.21->geopandas) (1.16.0)\n",
      "Requirement already satisfied: setuptools in c:\\users\\user\\anaconda3\\lib\\site-packages (from fiona>=1.8.21->geopandas) (68.0.0)\n",
      "Requirement already satisfied: python-dateutil>=2.8.1 in c:\\users\\user\\anaconda3\\lib\\site-packages (from pandas>=1.4.0->geopandas) (2.8.2)\n",
      "Requirement already satisfied: pytz>=2020.1 in c:\\users\\user\\anaconda3\\lib\\site-packages (from pandas>=1.4.0->geopandas) (2022.7)\n",
      "Requirement already satisfied: numpy>=1.21.0 in c:\\users\\user\\anaconda3\\lib\\site-packages (from pandas>=1.4.0->geopandas) (1.24.3)\n",
      "Requirement already satisfied: colorama in c:\\users\\user\\anaconda3\\lib\\site-packages (from click~=8.0->fiona>=1.8.21->geopandas) (0.4.6)\n",
      "Downloading geopandas-0.14.1-py3-none-any.whl (1.1 MB)\n",
      "   ---------------------------------------- 0.0/1.1 MB ? eta -:--:--\n",
      "   ------------ --------------------------- 0.4/1.1 MB 11.2 MB/s eta 0:00:01\n",
      "   ------------------------- -------------- 0.7/1.1 MB 8.8 MB/s eta 0:00:01\n",
      "   --------------------------------- ------ 0.9/1.1 MB 8.4 MB/s eta 0:00:01\n",
      "   ---------------------------------------- 1.1/1.1 MB 7.0 MB/s eta 0:00:00\n",
      "Downloading fiona-1.9.5-cp311-cp311-win_amd64.whl (22.9 MB)\n",
      "   ---------------------------------------- 0.0/22.9 MB ? eta -:--:--\n",
      "    --------------------------------------- 0.5/22.9 MB 15.5 MB/s eta 0:00:02\n",
      "   - -------------------------------------- 0.9/22.9 MB 11.6 MB/s eta 0:00:02\n",
      "   -- ------------------------------------- 1.3/22.9 MB 10.2 MB/s eta 0:00:03\n",
      "   -- ------------------------------------- 1.7/22.9 MB 9.6 MB/s eta 0:00:03\n",
      "   --- ------------------------------------ 2.1/22.9 MB 9.5 MB/s eta 0:00:03\n",
      "   ---- ----------------------------------- 2.6/22.9 MB 9.7 MB/s eta 0:00:03\n",
      "   ----- ---------------------------------- 3.0/22.9 MB 9.6 MB/s eta 0:00:03\n",
      "   ----- ---------------------------------- 3.3/22.9 MB 9.2 MB/s eta 0:00:03\n",
      "   ------ --------------------------------- 3.8/22.9 MB 9.3 MB/s eta 0:00:03\n",
      "   ------- -------------------------------- 4.2/22.9 MB 9.2 MB/s eta 0:00:03\n",
      "   -------- ------------------------------- 4.8/22.9 MB 9.7 MB/s eta 0:00:02\n",
      "   --------- ------------------------------ 5.4/22.9 MB 9.8 MB/s eta 0:00:02\n",
      "   ---------- ----------------------------- 5.9/22.9 MB 10.0 MB/s eta 0:00:02\n",
      "   ----------- ---------------------------- 6.4/22.9 MB 10.0 MB/s eta 0:00:02\n",
      "   ----------- ---------------------------- 6.8/22.9 MB 9.9 MB/s eta 0:00:02\n",
      "   ------------- -------------------------- 7.5/22.9 MB 10.1 MB/s eta 0:00:02\n",
      "   ------------- -------------------------- 7.9/22.9 MB 10.0 MB/s eta 0:00:02\n",
      "   -------------- ------------------------- 8.4/22.9 MB 10.1 MB/s eta 0:00:02\n",
      "   --------------- ------------------------ 8.9/22.9 MB 10.1 MB/s eta 0:00:02\n",
      "   ---------------- ----------------------- 9.4/22.9 MB 10.2 MB/s eta 0:00:02\n",
      "   ----------------- ---------------------- 9.9/22.9 MB 10.2 MB/s eta 0:00:02\n",
      "   ------------------ --------------------- 10.5/22.9 MB 10.2 MB/s eta 0:00:02\n",
      "   ------------------- -------------------- 11.0/22.9 MB 10.4 MB/s eta 0:00:02\n",
      "   -------------------- ------------------- 11.6/22.9 MB 10.7 MB/s eta 0:00:02\n",
      "   --------------------- ------------------ 12.1/22.9 MB 10.7 MB/s eta 0:00:02\n",
      "   ---------------------- ----------------- 12.7/22.9 MB 10.9 MB/s eta 0:00:01\n",
      "   ----------------------- ---------------- 13.4/22.9 MB 11.1 MB/s eta 0:00:01\n",
      "   ------------------------ --------------- 13.9/22.9 MB 11.5 MB/s eta 0:00:01\n",
      "   ------------------------- -------------- 14.5/22.9 MB 11.7 MB/s eta 0:00:01\n",
      "   -------------------------- ------------- 15.0/22.9 MB 11.5 MB/s eta 0:00:01\n",
      "   --------------------------- ------------ 15.6/22.9 MB 11.5 MB/s eta 0:00:01\n",
      "   ---------------------------- ----------- 16.2/22.9 MB 11.5 MB/s eta 0:00:01\n",
      "   ----------------------------- ---------- 16.8/22.9 MB 11.7 MB/s eta 0:00:01\n",
      "   ------------------------------ --------- 17.4/22.9 MB 11.9 MB/s eta 0:00:01\n",
      "   ------------------------------- -------- 17.9/22.9 MB 11.7 MB/s eta 0:00:01\n",
      "   -------------------------------- ------- 18.5/22.9 MB 12.1 MB/s eta 0:00:01\n",
      "   --------------------------------- ------ 19.0/22.9 MB 11.9 MB/s eta 0:00:01\n",
      "   ---------------------------------- ----- 19.5/22.9 MB 12.1 MB/s eta 0:00:01\n",
      "   ---------------------------------- ----- 19.8/22.9 MB 11.9 MB/s eta 0:00:01\n",
      "   ----------------------------------- ---- 20.4/22.9 MB 11.7 MB/s eta 0:00:01\n",
      "   ------------------------------------ --- 21.0/22.9 MB 11.7 MB/s eta 0:00:01\n",
      "   ------------------------------------- -- 21.5/22.9 MB 11.7 MB/s eta 0:00:01\n",
      "   -------------------------------------- - 22.0/22.9 MB 12.1 MB/s eta 0:00:01\n",
      "   ---------------------------------------  22.5/22.9 MB 11.7 MB/s eta 0:00:01\n",
      "   ---------------------------------------  22.9/22.9 MB 11.7 MB/s eta 0:00:01\n",
      "   ---------------------------------------  22.9/22.9 MB 11.7 MB/s eta 0:00:01\n",
      "   ---------------------------------------  22.9/22.9 MB 11.7 MB/s eta 0:00:01\n",
      "   ---------------------------------------- 22.9/22.9 MB 10.2 MB/s eta 0:00:00\n",
      "Downloading pyproj-3.6.1-cp311-cp311-win_amd64.whl (6.1 MB)\n",
      "   ---------------------------------------- 0.0/6.1 MB ? eta -:--:--\n",
      "   ---- ----------------------------------- 0.6/6.1 MB 13.5 MB/s eta 0:00:01\n",
      "   ------- -------------------------------- 1.2/6.1 MB 12.7 MB/s eta 0:00:01\n",
      "   ----------- ---------------------------- 1.8/6.1 MB 14.3 MB/s eta 0:00:01\n",
      "   -------------- ------------------------- 2.3/6.1 MB 13.2 MB/s eta 0:00:01\n",
      "   ------------------ --------------------- 2.8/6.1 MB 12.9 MB/s eta 0:00:01\n",
      "   ---------------------- ----------------- 3.4/6.1 MB 12.6 MB/s eta 0:00:01\n",
      "   ------------------------- -------------- 3.9/6.1 MB 12.4 MB/s eta 0:00:01\n",
      "   ----------------------------- ---------- 4.5/6.1 MB 12.4 MB/s eta 0:00:01\n",
      "   --------------------------------- ------ 5.1/6.1 MB 12.4 MB/s eta 0:00:01\n",
      "   ------------------------------------ --- 5.5/6.1 MB 12.2 MB/s eta 0:00:01\n",
      "   ---------------------------------------  6.0/6.1 MB 12.1 MB/s eta 0:00:01\n",
      "   ---------------------------------------  6.1/6.1 MB 11.8 MB/s eta 0:00:01\n",
      "   ---------------------------------------- 6.1/6.1 MB 10.8 MB/s eta 0:00:00\n",
      "Downloading shapely-2.0.2-cp311-cp311-win_amd64.whl (1.4 MB)\n",
      "   ---------------------------------------- 0.0/1.4 MB ? eta -:--:--\n",
      "   -------------- ------------------------- 0.5/1.4 MB 16.8 MB/s eta 0:00:01\n",
      "   ----------------------------- ---------- 1.0/1.4 MB 13.3 MB/s eta 0:00:01\n",
      "   ------------------------------ --------- 1.1/1.4 MB 8.7 MB/s eta 0:00:01\n",
      "   ---------------------------------------  1.4/1.4 MB 9.1 MB/s eta 0:00:01\n",
      "   ---------------------------------------- 1.4/1.4 MB 7.6 MB/s eta 0:00:00\n",
      "Installing collected packages: shapely, pyproj, cligj, click-plugins, fiona, geopandas\n",
      "Successfully installed click-plugins-1.1.1 cligj-0.7.2 fiona-1.9.5 geopandas-0.14.1 pyproj-3.6.1 shapely-2.0.2\n"
     ]
    }
   ],
   "source": [
    "! pip install geopandas"
   ]
  },
  {
   "cell_type": "code",
   "execution_count": 3,
   "id": "87d2d415",
   "metadata": {},
   "outputs": [
    {
     "name": "stdout",
     "output_type": "stream",
     "text": [
      "Requirement already satisfied: pandas in c:\\users\\user\\anaconda3\\lib\\site-packages (1.5.3)\n",
      "Requirement already satisfied: python-dateutil>=2.8.1 in c:\\users\\user\\anaconda3\\lib\\site-packages (from pandas) (2.8.2)\n",
      "Requirement already satisfied: pytz>=2020.1 in c:\\users\\user\\anaconda3\\lib\\site-packages (from pandas) (2022.7)\n",
      "Requirement already satisfied: numpy>=1.21.0 in c:\\users\\user\\anaconda3\\lib\\site-packages (from pandas) (1.24.3)\n",
      "Requirement already satisfied: six>=1.5 in c:\\users\\user\\anaconda3\\lib\\site-packages (from python-dateutil>=2.8.1->pandas) (1.16.0)\n"
     ]
    }
   ],
   "source": [
    "! pip install pandas"
   ]
  },
  {
   "cell_type": "code",
   "execution_count": 11,
   "id": "5dfb1c84",
   "metadata": {},
   "outputs": [],
   "source": [
    "import geopandas as gpd\n",
    "import os\n",
    "import pandas as pd\n",
    "\n",
    "# 현재 디렉토리에서 GeoJSON 파일 목록 가져오기\n",
    "geojson_files = [file for file in os.listdir() if file.endswith('.geojson')]\n",
    "\n",
    "# GeoDataFrame 초기화\n",
    "gdfs = []  # Use a list to store GeoDataFrames\n",
    "\n",
    "# 각 GeoJSON 파일을 GeoDataFrame에 추가\n",
    "for file in geojson_files:\n",
    "    filepath = os.path.join(os.getcwd(), file)\n",
    "    # GeoJSON 파일을 읽어들일 때 GeometryDtype으로 변환\n",
    "    gdf_temp = gpd.read_file(filepath, dtype={'geometry': 'geopandas.array.GeometryDtype'})\n",
    "    \n",
    "    # 데이터 유형이 GeometryDtype이 아니라면, GeometryDtype으로 변환\n",
    "    if gdf_temp.geometry.dtype != 'geometry':\n",
    "        gdf_temp['geometry'] = gdf_temp['geometry'].astype('geometry')\n",
    "    \n",
    "    # CRS 설정\n",
    "    gdf_temp.crs = gdf_temp.crs if gdf_temp.crs else {'init': 'epsg:4326'}\n",
    "    \n",
    "    gdfs.append(gdf_temp)\n",
    "\n",
    "# Concatenate the list of GeoDataFrames into one GeoDataFrame\n",
    "gdf = pd.concat(gdfs, ignore_index=True)\n",
    "\n",
    "# Convert 'geometry' column to standard geometry type\n",
    "gdf['geometry'] = gdf['geometry'].astype('geometry')\n",
    "\n",
    "# GeoDataFrame을 하나의 GeoJSON 파일로 저장\n",
    "gdf.to_file(\"output_geojson.geojson\", driver=\"GeoJSON\")"
   ]
  },
  {
   "cell_type": "code",
   "execution_count": 34,
   "id": "1b26e02f",
   "metadata": {
    "scrolled": true
   },
   "outputs": [
    {
     "name": "stdout",
     "output_type": "stream",
     "text": [
      "Requirement already satisfied: fiona in c:\\users\\user\\anaconda3\\lib\\site-packages (1.9.5)\n",
      "Requirement already satisfied: attrs>=19.2.0 in c:\\users\\user\\anaconda3\\lib\\site-packages (from fiona) (22.1.0)\n",
      "Requirement already satisfied: certifi in c:\\users\\user\\anaconda3\\lib\\site-packages (from fiona) (2023.7.22)\n",
      "Requirement already satisfied: click~=8.0 in c:\\users\\user\\anaconda3\\lib\\site-packages (from fiona) (8.0.4)\n",
      "Requirement already satisfied: click-plugins>=1.0 in c:\\users\\user\\anaconda3\\lib\\site-packages (from fiona) (1.1.1)\n",
      "Requirement already satisfied: cligj>=0.5 in c:\\users\\user\\anaconda3\\lib\\site-packages (from fiona) (0.7.2)\n",
      "Requirement already satisfied: six in c:\\users\\user\\anaconda3\\lib\\site-packages (from fiona) (1.16.0)\n",
      "Requirement already satisfied: setuptools in c:\\users\\user\\anaconda3\\lib\\site-packages (from fiona) (68.0.0)\n",
      "Requirement already satisfied: colorama in c:\\users\\user\\anaconda3\\lib\\site-packages (from click~=8.0->fiona) (0.4.6)\n"
     ]
    }
   ],
   "source": [
    "! pip install fiona"
   ]
  },
  {
   "cell_type": "code",
   "execution_count": 41,
   "id": "75baee56",
   "metadata": {},
   "outputs": [
    {
     "name": "stdout",
     "output_type": "stream",
     "text": [
      "Collecting geojson\n",
      "  Obtaining dependency information for geojson from https://files.pythonhosted.org/packages/8e/1b/4f57660aa148d3e3043d048b7e1ab87dfeb85204d0fdb5b4e19c08202162/geojson-3.1.0-py3-none-any.whl.metadata\n",
      "  Downloading geojson-3.1.0-py3-none-any.whl.metadata (16 kB)\n",
      "Downloading geojson-3.1.0-py3-none-any.whl (15 kB)\n",
      "Installing collected packages: geojson\n",
      "Successfully installed geojson-3.1.0\n"
     ]
    }
   ],
   "source": [
    "! pip install geojson"
   ]
  },
  {
   "cell_type": "code",
   "execution_count": 42,
   "id": "eddc56e8",
   "metadata": {},
   "outputs": [
    {
     "name": "stdout",
     "output_type": "stream",
     "text": [
      "Conversion completed. OSM file saved at: real_output.osm\n"
     ]
    }
   ],
   "source": [
    "import fiona\n",
    "from shapely.geometry import shape\n",
    "import geojson\n",
    "from geojson import Feature, Point\n",
    "\n",
    "def geojson_to_osm(input_geojson, output_osm):\n",
    "    # GeoJSON 파일 열기\n",
    "    with fiona.open(input_geojson, 'r') as source:\n",
    "        # OSM XML 헤더 작성\n",
    "        osm_xml = '<?xml version=\"1.0\" encoding=\"UTF-8\"?>\\n<osm version=\"0.6\" generator=\"geojson_to_osm\">\\n'\n",
    "\n",
    "        # 각 feature에 대해 OSM XML 노드 작성\n",
    "        for feature in source:\n",
    "            # 각 feature의 geometry와 properties 가져오기\n",
    "            geom = shape(feature['geometry'])\n",
    "            props = feature['properties']\n",
    "\n",
    "            # 중심 좌표를 얻어와서 OSM 노드로 변환\n",
    "            center = geom.centroid\n",
    "            osm_xml += f'  <node id=\"{props[\"id\"]}\" lat=\"{center.y}\" lon=\"{center.x}\" version=\"1\">\\n'  # version 추가\n",
    "            \n",
    "            # Tags 작성\n",
    "            for key, value in props.items():\n",
    "                osm_xml += f'    <tag k=\"{key}\" v=\"{value}\"/>\\n'\n",
    "            \n",
    "            osm_xml += '  </node>\\n'\n",
    "\n",
    "        # OSM XML 푸터 작성\n",
    "        osm_xml += '</osm>'\n",
    "\n",
    "        # OSM XML 파일 저장\n",
    "        with open(output_osm, 'w', encoding='utf-8') as osm_file:\n",
    "            osm_file.write(osm_xml)\n",
    "\n",
    "# 입력 GeoJSON 파일 경로와 출력 OSM 파일 경로 지정\n",
    "input_geojson = \"output_geojson.geojson\"\n",
    "output_osm = \"real_output.osm\"\n",
    "\n",
    "# GeoJSON을 OSM으로 변환\n",
    "geojson_to_osm(input_geojson, output_osm)\n",
    "\n",
    "print(f\"Conversion completed. OSM file saved at: {output_osm}\")"
   ]
  }
 ],
 "metadata": {
  "kernelspec": {
   "display_name": "Python 3 (ipykernel)",
   "language": "python",
   "name": "python3"
  },
  "language_info": {
   "codemirror_mode": {
    "name": "ipython",
    "version": 3
   },
   "file_extension": ".py",
   "mimetype": "text/x-python",
   "name": "python",
   "nbconvert_exporter": "python",
   "pygments_lexer": "ipython3",
   "version": "3.11.4"
  }
 },
 "nbformat": 4,
 "nbformat_minor": 5
}
